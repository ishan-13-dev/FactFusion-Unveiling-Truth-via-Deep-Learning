{
  "cells": [
    {
      "cell_type": "markdown",
      "metadata": {
        "id": "view-in-github",
        "colab_type": "text"
      },
      "source": [
        "<a href=\"https://colab.research.google.com/github/FiafRex/Fake-news-Detection-with-deep-learning/blob/main/code.ipynb\" target=\"_parent\"><img src=\"https://colab.research.google.com/assets/colab-badge.svg\" alt=\"Open In Colab\"/></a>"
      ]
    },
    {
      "cell_type": "code",
      "execution_count": null,
      "metadata": {
        "colab": {
          "background_save": true
        },
        "id": "JDJ936-f0aau"
      },
      "outputs": [],
      "source": [
        "import numpy as np\n",
        "import pandas as pd\n",
        "import matplotlib.pyplot as plt\n",
        "import seaborn as sns\n",
        "import nltk\n",
        "import re\n",
        "from wordcloud import WordCloud"
      ]
    },
    {
      "cell_type": "code",
      "execution_count": null,
      "metadata": {
        "colab": {
          "background_save": true
        },
        "id": "TiMclaEc03He"
      },
      "outputs": [],
      "source": [
        "from tensorflow.keras.preprocessing.text import Tokenizer\n",
        "from tensorflow.keras.preprocessing.sequence import pad_sequences\n",
        "from tensorflow.keras.models import Sequential\n",
        "from tensorflow.keras.layers import Dense, Embedding, LSTM, Conv1D, MaxPool1D\n",
        "from sklearn.model_selection import train_test_split\n",
        "from sklearn.metrics import classification_report, accuracy_score\n",
        "from keras.models import load_model"
      ]
    },
    {
      "cell_type": "code",
      "execution_count": null,
      "metadata": {
        "id": "45ShSgOY130g"
      },
      "outputs": [],
      "source": [
        "fake = pd.read_csv('https://raw.githubusercontent.com/laxmimerit/fake-real-news-dataset/main/data/Fake.csv')"
      ]
    },
    {
      "cell_type": "code",
      "execution_count": null,
      "metadata": {
        "id": "4O8WDYKQ2fBt"
      },
      "outputs": [],
      "source": [
        "fake.head()"
      ]
    },
    {
      "cell_type": "code",
      "execution_count": null,
      "metadata": {
        "id": "szvkngZ72k3t"
      },
      "outputs": [],
      "source": [
        "fake.columns"
      ]
    },
    {
      "cell_type": "code",
      "execution_count": null,
      "metadata": {
        "id": "ZMEAjFjP2n6s"
      },
      "outputs": [],
      "source": [
        "fake['subject'].value_counts()"
      ]
    },
    {
      "cell_type": "code",
      "execution_count": null,
      "metadata": {
        "id": "3rRBGu1d3cJt"
      },
      "outputs": [],
      "source": [
        "plt.figure(figsize=(10,6))\n",
        "sns.countplot(x= 'subject',data=fake)"
      ]
    },
    {
      "cell_type": "code",
      "execution_count": null,
      "metadata": {
        "id": "xWQDtGNs37oU"
      },
      "outputs": [],
      "source": [
        "text= ' '.join(fake['text'].tolist())"
      ]
    },
    {
      "cell_type": "code",
      "execution_count": null,
      "metadata": {
        "id": "HYYMb4y64bPs"
      },
      "outputs": [],
      "source": [
        "' '.join(['this','is','a','data'])"
      ]
    },
    {
      "cell_type": "code",
      "execution_count": null,
      "metadata": {
        "id": "lAr4pwa44imj"
      },
      "outputs": [],
      "source": [
        "wordcloud= WordCloud(width=1920, height= 1080).generate(text)\n",
        "fig = plt.figure(figsize=(10,10))\n",
        "plt.imshow(wordcloud)\n",
        "plt.axis('off')\n",
        "plt.tight_layout(pad=0)\n",
        "plt.show()"
      ]
    },
    {
      "cell_type": "code",
      "execution_count": null,
      "metadata": {
        "id": "IHLFPWYk6K6S"
      },
      "outputs": [],
      "source": [
        "real=pd.read_csv('https://raw.githubusercontent.com/laxmimerit/fake-real-news-dataset/main/data/True.csv')"
      ]
    },
    {
      "cell_type": "code",
      "execution_count": null,
      "metadata": {
        "id": "K2s4OVkn6cC6"
      },
      "outputs": [],
      "source": [
        "text= ' '.join(real['text'].tolist())"
      ]
    },
    {
      "cell_type": "code",
      "execution_count": null,
      "metadata": {
        "id": "GLlqpEvr6hJK"
      },
      "outputs": [],
      "source": [
        "wordcloud= WordCloud(width=1920, height= 1080).generate(text)\n",
        "fig = plt.figure(figsize=(10,10))\n",
        "plt.imshow(wordcloud)\n",
        "plt.axis('off')\n",
        "plt.tight_layout(pad=0)\n",
        "plt.show()"
      ]
    },
    {
      "cell_type": "code",
      "execution_count": null,
      "metadata": {
        "id": "TqLIAV8s88YI"
      },
      "outputs": [],
      "source": [
        "real.sample(5)"
      ]
    },
    {
      "cell_type": "code",
      "execution_count": null,
      "metadata": {
        "id": "j5dt0RAP-H3H"
      },
      "outputs": [],
      "source": [
        "unknown_publishers = []\n",
        "for index, row in enumerate(real.text.values):\n",
        "      try:\n",
        "        record = row.split('-', maxsplit=1)\n",
        "        record[1]\n",
        "\n",
        "\n",
        "        assert(len(record[0])<120)\n",
        "      except:\n",
        "        unknown_publishers.append(index)\n"
      ]
    },
    {
      "cell_type": "code",
      "execution_count": null,
      "metadata": {
        "id": "LW-o-_mp_Mq1"
      },
      "outputs": [],
      "source": [
        "len(unknown_publishers)"
      ]
    },
    {
      "cell_type": "code",
      "execution_count": null,
      "metadata": {
        "id": "51sH_BWf_zfV"
      },
      "outputs": [],
      "source": [
        "real.iloc[unknown_publishers].text"
      ]
    },
    {
      "cell_type": "code",
      "execution_count": null,
      "metadata": {
        "id": "3nJ0iJJcBRx8"
      },
      "outputs": [],
      "source": [
        "real.iloc[8970]"
      ]
    },
    {
      "cell_type": "code",
      "execution_count": null,
      "metadata": {
        "id": "MEtfzP4-BXm8"
      },
      "outputs": [],
      "source": [
        "real=real.drop(8970, axis=0)"
      ]
    },
    {
      "cell_type": "code",
      "execution_count": null,
      "metadata": {
        "id": "amY-6Oe2ARHt"
      },
      "outputs": [],
      "source": [
        "publisher=[]\n",
        "tmp_text = []\n",
        "\n",
        "for index, row in enumerate(real.text.values):\n",
        "  if index in unknown_publishers:\n",
        "    tmp_text.append(row)\n",
        "    publisher.append('Unknown')\n",
        "\n",
        "  else:\n",
        "    record = row.split('-', maxsplit=1)\n",
        "    publisher.append(record[0].strip())\n",
        "    tmp_text.append(record[1].strip())\n"
      ]
    },
    {
      "cell_type": "code",
      "execution_count": null,
      "metadata": {
        "id": "6kArjEyMBxXE"
      },
      "outputs": [],
      "source": [
        "real['publisher']=publisher\n",
        "real['text'] = tmp_text"
      ]
    },
    {
      "cell_type": "code",
      "execution_count": null,
      "metadata": {
        "id": "46j0wU4OB3OT"
      },
      "outputs": [],
      "source": [
        "real.head()"
      ]
    },
    {
      "cell_type": "code",
      "execution_count": null,
      "metadata": {
        "id": "xB53hChUB6QL"
      },
      "outputs": [],
      "source": [
        "real.shape"
      ]
    },
    {
      "cell_type": "code",
      "execution_count": null,
      "metadata": {
        "id": "PvRpTdOnCEz7"
      },
      "outputs": [],
      "source": [
        "empty_fake_index =[index for index, text in enumerate(fake.text.tolist()) if str(text).strip()==\"\"]"
      ]
    },
    {
      "cell_type": "code",
      "execution_count": null,
      "metadata": {
        "id": "6v2-l3pyCkND"
      },
      "outputs": [],
      "source": [
        "fake.iloc[empty_fake_index]"
      ]
    },
    {
      "cell_type": "code",
      "execution_count": null,
      "metadata": {
        "id": "AK_Ev2YCCqzc"
      },
      "outputs": [],
      "source": [
        "real['text']=real['title']+ \" \" + real['text']\n",
        "fake['text']=fake['title']+ \" \" + fake['text']"
      ]
    },
    {
      "cell_type": "code",
      "execution_count": null,
      "metadata": {
        "id": "UebpFOaoDB3r"
      },
      "outputs": [],
      "source": [
        "real['text']=real['text'].apply(lambda x: str(x).lower())\n",
        "fake['text']=fake['text'].apply(lambda x: str(x).lower())"
      ]
    },
    {
      "cell_type": "code",
      "execution_count": null,
      "metadata": {
        "id": "LE3CoJEPDYsL"
      },
      "outputs": [],
      "source": [
        "real['class'] = 1\n",
        "fake['class'] = 0"
      ]
    },
    {
      "cell_type": "code",
      "execution_count": null,
      "metadata": {
        "id": "1yZiHQmlDgCr"
      },
      "outputs": [],
      "source": [
        "real.columns"
      ]
    },
    {
      "cell_type": "code",
      "execution_count": null,
      "metadata": {
        "id": "4658hM0LDh8z"
      },
      "outputs": [],
      "source": [
        "real =real[['text', 'class']]"
      ]
    },
    {
      "cell_type": "code",
      "execution_count": null,
      "metadata": {
        "id": "8rJoxwH8Ds6q"
      },
      "outputs": [],
      "source": [
        "fake =fake[['text', 'class']]"
      ]
    },
    {
      "cell_type": "code",
      "execution_count": null,
      "metadata": {
        "id": "M0DddvNMDxly"
      },
      "outputs": [],
      "source": [
        "data=real.append(fake, ignore_index= True)"
      ]
    },
    {
      "cell_type": "code",
      "execution_count": null,
      "metadata": {
        "id": "2IE-LXyID9By"
      },
      "outputs": [],
      "source": [
        "data.sample(5)"
      ]
    },
    {
      "cell_type": "code",
      "execution_count": null,
      "metadata": {
        "id": "c_IzU4pvEA_6"
      },
      "outputs": [],
      "source": []
    },
    {
      "cell_type": "code",
      "execution_count": null,
      "metadata": {
        "id": "-oNIRNsaEQ0J"
      },
      "outputs": [],
      "source": [
        "!pip install spacy==2.2.3\n",
        "!python -m spacy download en_core_web_sm\n",
        "!pip install beautifulsoup4==4.9.1\n",
        "!pip install textblob==0.15.3\n",
        "!pip install git+https://github.com/laxmimerit/preprocess_kgptalkie.git --upgrade --force-reinstall"
      ]
    },
    {
      "cell_type": "code",
      "execution_count": null,
      "metadata": {
        "id": "EoVoOnPsElZJ"
      },
      "outputs": [],
      "source": [
        "import preprocess_kgptalkie as ps"
      ]
    },
    {
      "cell_type": "code",
      "execution_count": null,
      "metadata": {
        "id": "Ke48KvCSEpi6"
      },
      "outputs": [],
      "source": [
        "data ['text'].apply(lambda x: ps.remove_special_chars(x))"
      ]
    },
    {
      "cell_type": "code",
      "execution_count": null,
      "metadata": {
        "id": "QUsmxsX6FKQJ"
      },
      "outputs": [],
      "source": [
        "import gensim"
      ]
    },
    {
      "cell_type": "code",
      "execution_count": null,
      "metadata": {
        "id": "3ri7ThP-FeZA"
      },
      "outputs": [],
      "source": [
        "y= data['class'].values"
      ]
    },
    {
      "cell_type": "code",
      "execution_count": null,
      "metadata": {
        "id": "pgThBdIMFiwp"
      },
      "outputs": [],
      "source": [
        "X= [d.split() for d in data['text'].tolist()]"
      ]
    },
    {
      "cell_type": "code",
      "execution_count": null,
      "metadata": {
        "id": "4NIiialwGDmY"
      },
      "outputs": [],
      "source": [
        "type(X[0])"
      ]
    },
    {
      "cell_type": "code",
      "execution_count": null,
      "metadata": {
        "id": "wx_atK65GGX4"
      },
      "outputs": [],
      "source": [
        "print(X[0])"
      ]
    },
    {
      "cell_type": "code",
      "execution_count": null,
      "metadata": {
        "id": "KnKGTiWhGKLp"
      },
      "outputs": [],
      "source": [
        "DIM = 100\n",
        "w2v_model = gensim.models.Word2Vec(sentences=X, size=DIM, window=10, min_count=1)"
      ]
    },
    {
      "cell_type": "code",
      "execution_count": null,
      "metadata": {
        "id": "bTo0yMmIHaKX"
      },
      "outputs": [],
      "source": [
        "len(w2v_model.wv.vocab)"
      ]
    },
    {
      "cell_type": "code",
      "execution_count": null,
      "metadata": {
        "id": "hSIn4oiWHsyw"
      },
      "outputs": [],
      "source": [
        "w2v_model.wv['love']"
      ]
    },
    {
      "cell_type": "code",
      "execution_count": null,
      "metadata": {
        "id": "nQM20PU6H8ue"
      },
      "outputs": [],
      "source": [
        "w2v_model.wv['india']"
      ]
    },
    {
      "cell_type": "code",
      "execution_count": null,
      "metadata": {
        "id": "EzDkg2e0H_gf"
      },
      "outputs": [],
      "source": [
        "w2v_model.wv.most_similar('gandhi')"
      ]
    },
    {
      "cell_type": "code",
      "execution_count": null,
      "metadata": {
        "id": "bZGLdDbLJAZ5"
      },
      "outputs": [],
      "source": [
        "tokenizer = Tokenizer()\n",
        "tokenizer.fit_on_texts(X)"
      ]
    },
    {
      "cell_type": "code",
      "execution_count": null,
      "metadata": {
        "id": "YLbLxnk5JJi2"
      },
      "outputs": [],
      "source": [
        "X  = tokenizer.texts_to_sequences(X)"
      ]
    },
    {
      "cell_type": "code",
      "execution_count": null,
      "metadata": {
        "id": "Yt9DBqEDJZRd"
      },
      "outputs": [],
      "source": [
        "#tokenizer.word_index"
      ]
    },
    {
      "cell_type": "code",
      "execution_count": null,
      "metadata": {
        "id": "WBGWxyqbJn8d"
      },
      "outputs": [],
      "source": [
        "plt.hist([len(x) for x in X], bins = 700)\n",
        "plt.show()"
      ]
    },
    {
      "cell_type": "code",
      "execution_count": null,
      "metadata": {
        "id": "wC82KJJjJ49t"
      },
      "outputs": [],
      "source": [
        "nos = np.array([len(x) for x in X])\n",
        "len(nos[nos>1000])"
      ]
    },
    {
      "cell_type": "code",
      "execution_count": null,
      "metadata": {
        "id": "8zgZBZ45KD_F"
      },
      "outputs": [],
      "source": [
        "maxlen =1000\n",
        "X = pad_sequences(X, maxlen = maxlen)"
      ]
    },
    {
      "cell_type": "code",
      "execution_count": null,
      "metadata": {
        "id": "Rh4_qH1lKTR1"
      },
      "outputs": [],
      "source": [
        "len(X[104])"
      ]
    },
    {
      "cell_type": "code",
      "execution_count": null,
      "metadata": {
        "id": "CbJKxMRaNMcD"
      },
      "outputs": [],
      "source": [
        "vocab_size = len(tokenizer.word_index)+1\n",
        "vocab = tokenizer.word_index"
      ]
    },
    {
      "cell_type": "code",
      "execution_count": null,
      "metadata": {
        "id": "VZHLhkyKNZPD"
      },
      "outputs": [],
      "source": [
        "def get_weight_matrix(model):\n",
        "  weight_matrix = np.zeros((vocab_size, DIM))\n",
        "\n",
        "  for word, i in vocab.items():\n",
        "    weight_matrix[i] = model.wv[word]\n",
        "\n",
        "    return weight_matrix"
      ]
    },
    {
      "cell_type": "code",
      "execution_count": null,
      "metadata": {
        "id": "_Lx4QDV7N2L5"
      },
      "outputs": [],
      "source": [
        "embedding_vectors = get_weight_matrix(w2v_model)"
      ]
    },
    {
      "cell_type": "code",
      "execution_count": null,
      "metadata": {
        "id": "_NVCxprjOpfj"
      },
      "outputs": [],
      "source": [
        "embedding_vectors.shape"
      ]
    },
    {
      "cell_type": "code",
      "execution_count": null,
      "metadata": {
        "id": "q9uH_M4lOu-g"
      },
      "outputs": [],
      "source": [
        "model = Sequential()\n",
        "model.add(Embedding(vocab_size, output_dim=DIM, weights = [embedding_vectors], input_length=maxlen, trainable=True))\n",
        "model.add(LSTM(units=128))\n",
        "model.add(Dense(1, activation='sigmoid'))\n",
        "model.compile(optimizer='adam', loss='binary_crossentropy', metrics=['acc'])"
      ]
    },
    {
      "cell_type": "code",
      "execution_count": null,
      "metadata": {
        "id": "feCFk16APqG4"
      },
      "outputs": [],
      "source": [
        "model.summary()"
      ]
    },
    {
      "cell_type": "code",
      "execution_count": null,
      "metadata": {
        "id": "DHLF9OXePvpY"
      },
      "outputs": [],
      "source": [
        "X_train, X_test, y_train, y_test=train_test_split(X,y)"
      ]
    },
    {
      "cell_type": "code",
      "execution_count": null,
      "metadata": {
        "id": "lA7fno0QP2Jy"
      },
      "outputs": [],
      "source": [
        "model.fit(X_train, y_train, validation_split=0.3, epochs=6)"
      ]
    },
    {
      "cell_type": "code",
      "execution_count": null,
      "metadata": {
        "id": "VrUtVRk6RdR_"
      },
      "outputs": [],
      "source": [
        "y_pred = (model.predict(X_test) >=0.5).astype(int)"
      ]
    },
    {
      "cell_type": "code",
      "execution_count": null,
      "metadata": {
        "id": "HzhpQUIlRu9Q"
      },
      "outputs": [],
      "source": [
        "accuracy_score(y_test,y_pred)"
      ]
    },
    {
      "cell_type": "code",
      "execution_count": null,
      "metadata": {
        "id": "mieuVLeDbiJH"
      },
      "outputs": [],
      "source": [
        "print(classification_report(y_test, y_pred))"
      ]
    },
    {
      "cell_type": "code",
      "execution_count": null,
      "metadata": {
        "id": "Eksho8T5bn_B"
      },
      "outputs": [],
      "source": [
        "x=['this is authentic news']"
      ]
    },
    {
      "cell_type": "code",
      "execution_count": null,
      "metadata": {
        "id": "lCwcSLi3buWO"
      },
      "outputs": [],
      "source": [
        "X_test"
      ]
    },
    {
      "cell_type": "code",
      "execution_count": null,
      "metadata": {
        "id": "lhjSLYSibxEu"
      },
      "outputs": [],
      "source": [
        "x=['This is authentic news']\n",
        "x=tokenizer.texts_to_sequences(x)\n",
        "x= pad_sequences(x,maxlen=maxlen)"
      ]
    },
    {
      "cell_type": "code",
      "execution_count": null,
      "metadata": {
        "id": "ZxhkfNeHcNnH"
      },
      "outputs": [],
      "source": [
        "(model.predict(x) >=0.5).astype(int)"
      ]
    },
    {
      "cell_type": "code",
      "execution_count": null,
      "metadata": {
        "id": "4ZlBS7Vggt95"
      },
      "outputs": [],
      "source": [
        "x=[\"Twitter has told employees that the company's office buildings will be temporarily closed, effective immediately.\"]\n",
        "x=tokenizer.texts_to_sequences(x)\n",
        "x= pad_sequences(x,maxlen=maxlen)\n",
        "(model.predict(x) >=0.5).astype(int)"
      ]
    }
  ],
  "metadata": {
    "accelerator": "GPU",
    "colab": {
      "collapsed_sections": [
        "v-CAtEdN8WMZ"
      ],
      "provenance": [],
      "authorship_tag": "ABX9TyN1vFQ9VBgF9FEXBhm7iC8d",
      "include_colab_link": true
    },
    "gpuClass": "standard",
    "kernelspec": {
      "display_name": "Python 3",
      "name": "python3"
    },
    "language_info": {
      "name": "python"
    }
  },
  "nbformat": 4,
  "nbformat_minor": 0
}